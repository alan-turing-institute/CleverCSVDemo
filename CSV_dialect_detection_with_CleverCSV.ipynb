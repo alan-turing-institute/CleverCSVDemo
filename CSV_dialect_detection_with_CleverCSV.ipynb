{
 "cells": [
  {
   "cell_type": "markdown",
   "metadata": {
    "format": "text/markdown"
   },
   "source": [
    "# CSV dialect detection with CleverCSV\n",
    "\n",
    "**Author**: [Gertjan van den Burg](https://gertjan.dev)\n",
    "\n",
    "In this note we'll show some examples of using CleverCSV, a package for \n",
    "handling messy CSV files. We'll start with a motivating example and then show \n",
    "some other files where CleverCSV shines. CleverCSV was developed as part of a \n",
    "research project on automating data wrangling. It achieves an accuracy of 97% \n",
    "on over 9300 real-world CSV files and improves the accuracy on messy files by \n",
    "21% over standard tools.\n",
    "\n",
    "Handy links:\n",
    "\n",
    " - [Paper on arXiv](https://arxiv.org/abs/1811.11242)\n",
    " - [CleverCSV on GitHub](https://github.com/alan-turing-institute/CleverCSV)\n",
    " - [CleverCSV on PyPI](https://pypi.org/project/clevercsv/)\n",
    " - [Reproducible Research Repo](https://github.com/alan-turing-institute/CSV_Wrangling/)\n",
    "\n",
    "## IMDB Movie data\n",
    "\n",
    "Alice is a data scientist who would like to analyse the movie ratings on IMDB \n",
    "for movies of different genres. She found [a dataset shared by a user on \n",
    "Kaggle](https://www.kaggle.com/orgesleka/imdbmovies) that contains information \n",
    "of over 14,000 movies. Great! \n",
    "\n",
    "The data is stored in a CSV file, which is a very common data format for \n",
    "sharing tabular data. The first few lines of the file look like this:\n",
    "\n",
    "```\n",
    "fn,tid,title,wordsInTitle,url,imdbRating,ratingCount,duration,year,type,nrOfWins,nrOfNominations,nrOfPhotos,nrOfNewsArticles,nrOfUserReviews,nrOfGenre,Action,Adult,Adventure,Animation,Biography,Comedy,Crime,Documentary,Drama,Family,Fantasy,FilmNoir,GameShow,History,Horror,Music,Musical,Mystery,News,RealityTV,Romance,SciFi,Short,Sport,TalkShow,Thriller,War,Western\n",
    "titles01/tt0012349,tt0012349,Der Vagabund und das Kind (1921),der vagabund und das kind,http://www.imdb.com/title/tt0012349/,8.4,40550,3240,1921,video.movie,1,0,19,96,85,3,0,0,0,0,0,1,0,0,1,1,0,0,0,0,0,0,0,0,0,0,0,0,0,0,0,0,0,0\n",
    "titles01/tt0015864,tt0015864,Goldrausch (1925),goldrausch,http://www.imdb.com/title/tt0015864/,8.3,45319,5700,1925,video.movie,2,1,35,110,122,3,0,0,1,0,0,1,0,0,0,1,0,0,0,0,0,0,0,0,0,0,0,0,0,0,0,0,0,0\n",
    "titles01/tt0017136,tt0017136,Metropolis (1927),metropolis,http://www.imdb.com/title/tt0017136/,8.4,81007,9180,1927,video.movie,3,4,67,428,376,2,0,0,0,0,0,0,0,0,1,0,0,0,0,0,0,0,0,0,0,0,0,1,0,0,0,0,0,0\n",
    "titles01/tt0017925,tt0017925,Der General (1926),der general,http://www.imdb.com/title/tt0017925/,8.3,37521,6420,1926,video.movie,1,1,53,123,219,3,1,0,1,0,0,1,0,0,0,0,0,0,0,0,0,0,0,0,0,0,0,0,0,0,0,0,0,0\n",
    "titles01/tt0021749,tt0021749,Lichter der Großstadt (1931),lichter der gro stadt,http://www.imdb.com/title/tt0021749/,8.7,70057,5220,1931,video.movie,2,0,38,187,186,3,0,0,0,0,0,1,0,0,1,0,0,0,0,0,0,0,0,0,0,0,1,0,0,0,0,0,0,0\n",
    "```\n",
    "\n",
    "Seems pretty standard, let's load it with Pandas!\n",
    "\n"
   ]
  },
  {
   "cell_type": "code",
   "execution_count": null,
   "metadata": {
    "autoscroll": "auto",
    "options": {
     "caption": false,
     "complete": true,
     "display_data": true,
     "display_stream": true,
     "dpi": 200,
     "echo": true,
     "evaluate": true,
     "f_env": null,
     "f_pos": "htpb",
     "f_size": [
      6,
      4
     ],
     "f_spines": true,
     "fig": true,
     "include": true,
     "name": null,
     "option_string": "",
     "results": "verbatim",
     "term": false,
     "wrap": "output"
    }
   },
   "outputs": [],
   "source": [
    "%xmode Minimal\n",
    "import pandas as pd\n",
    "df = pd.read_csv('./data/imdb.csv')"
   ]
  },
  {
   "cell_type": "markdown",
   "metadata": {
    "format": "text/markdown"
   },
   "source": [
    "\n",
    "Oh, that doesn't work. Maybe there's something wrong with the file? Let's try \n",
    "opening it with the Python CSV reader:\n",
    "\n"
   ]
  },
  {
   "cell_type": "code",
   "execution_count": null,
   "metadata": {
    "autoscroll": "auto",
    "options": {
     "caption": false,
     "complete": true,
     "display_data": true,
     "display_stream": true,
     "dpi": 200,
     "echo": true,
     "evaluate": true,
     "f_env": null,
     "f_pos": "htpb",
     "f_size": [
      6,
      4
     ],
     "f_spines": true,
     "fig": true,
     "include": true,
     "name": null,
     "option_string": "",
     "results": "verbatim",
     "term": false,
     "wrap": "output"
    }
   },
   "outputs": [],
   "source": [
    "import csv\n",
    "with open('./data/imdb.csv', 'r', newline='') as fid:\n",
    "    dialect = csv.Sniffer().sniff(fid.read())\n",
    "    print(\"Detected delimiter = %r, quotechar = %r\" % (dialect.delimiter, dialect.quotechar))\n",
    "    fid.seek(0)\n",
    "    reader = csv.reader(fid, dialect=dialect)\n",
    "    rows = list(reader)\n",
    "\n",
    "print(\"Loaded %i rows.\" % len(rows))"
   ]
  },
  {
   "cell_type": "markdown",
   "metadata": {
    "format": "text/markdown"
   },
   "source": [
    "\n",
    "Huh, that's strange, Python thinks the *space* is the delimiter and loads \n",
    "13928 rows, but the file should contain 14,762 rows according to the \n",
    "documentation.  What's going on here?\n",
    "\n",
    "It turns out that on the 65th line of the file, there's a movie with the title \n",
    "``Dr. Seltsam\\, oder wie ich lernte\\, die Bombe zu lieben (1964)`` (the German \n",
    "version of Dr. Strangelove).  The title has commas in it, that are escaped \n",
    "using the ``\\`` character!  Why are CSV files so hard? 😑\n",
    "\n",
    "**CleverCSV to the rescue!**\n",
    "\n",
    "CleverCSV detects the dialect of CSV files much more accurately than existing \n",
    "approaches, and it is therefore robust against these kinds of format \n",
    "variations. It even has a wrapper that works with DataFrames!\n",
    "\n"
   ]
  },
  {
   "cell_type": "code",
   "execution_count": null,
   "metadata": {
    "autoscroll": "auto",
    "options": {
     "caption": false,
     "complete": true,
     "display_data": true,
     "display_stream": true,
     "dpi": 200,
     "echo": true,
     "evaluate": true,
     "f_env": null,
     "f_pos": "htpb",
     "f_size": [
      6,
      4
     ],
     "f_spines": true,
     "fig": true,
     "include": true,
     "name": null,
     "option_string": "",
     "results": "verbatim",
     "term": false,
     "wrap": "output"
    }
   },
   "outputs": [],
   "source": [
    "from clevercsv import csv2df\n",
    "\n",
    "df = csv2df('./data/imdb.csv')\n",
    "df"
   ]
  },
  {
   "cell_type": "markdown",
   "metadata": {
    "format": "text/markdown"
   },
   "source": [
    "\n",
    "Hooray! 🎉\n",
    "\n",
    "How does it work? CleverCSV searches the space of all possible dialects of a \n",
    "file, and computes a *data consistency measure* that quantifies how much the \n",
    "resulting table \"looks like real data\". The consistency measure combines \n",
    "patterns of row lengths in the parsing result and the data type of the \n",
    "resulting cells.  This mimicks how a human would identify the dialect. If \n",
    "you're wondering why this problem is hard, it's because every dialect will \n",
    "give you *some* table, but not necessarily the correct one. More details can \n",
    "be found [in the paper](https://arxiv.org/abs/1811.11242).\n",
    "\n",
    "## Other Examples\n",
    "\n",
    "We'll compare CleverCSV to the built-in Python CSV module and to Pandas and \n",
    "show how these are not as robust as CleverCSV. Note that Pandas always uses \n",
    "the comma as separator, unless it is forced to autodetect the dialect, in \n",
    "which case it uses the Python Sniffer on the first line (we don't show that \n",
    "here).  These files are of course selected for this tutorial, because it \n",
    "wouldn't be very interesting to show files where all methods are correct.\n",
    "\n",
    "Some files come from the [UK's open government data portal](data.gov.uk) (see \n",
    "[the repo for \n",
    "sources](https://github.com/alan-turing-institute/CleverCSVDemo/tree/master/data)), \n",
    "whereas others come from MIT-licensed GitHub repositories (the URLs point \n",
    "directly to the source files).\n",
    "\n",
    "We'll define some functions for easy comparisons.\n",
    "\n"
   ]
  },
  {
   "cell_type": "code",
   "execution_count": null,
   "metadata": {
    "autoscroll": "auto",
    "options": {
     "caption": false,
     "complete": true,
     "display_data": true,
     "display_stream": true,
     "dpi": 200,
     "echo": true,
     "evaluate": true,
     "f_env": null,
     "f_pos": "htpb",
     "f_size": [
      6,
      4
     ],
     "f_spines": true,
     "fig": true,
     "include": true,
     "name": null,
     "option_string": "",
     "results": "verbatim",
     "term": false,
     "wrap": "output"
    }
   },
   "outputs": [],
   "source": [
    "import csv\n",
    "import clevercsv\n",
    "import io\n",
    "import os\n",
    "import requests\n",
    "import pandas as pd\n",
    "\n",
    "from termcolor import colored\n",
    "from IPython.display import display\n",
    "\n",
    "def page(url):\n",
    "    \"\"\" Get the content of a webpage using requests, assuming UTF-8 encoding \"\"\"\n",
    "    page = requests.get(url)\n",
    "    content = page.content.decode('utf-8')\n",
    "    return content\n",
    "\n",
    "def head(content, num=10):\n",
    "    \"\"\" Preview a CSV file \"\"\"\n",
    "    print('--- File Preview ---')\n",
    "    for i, line in enumerate(io.StringIO(content, newline=None)):\n",
    "        print(line, end='')\n",
    "        if i == num - 1:\n",
    "            break\n",
    "    print('\\n---')\n",
    "\n",
    "def sniff_url(content):\n",
    "    \"\"\" Utility to run the python Sniffer on a CSV file at a URL \"\"\"\n",
    "    try:\n",
    "        dialect = csv.Sniffer().sniff(content)\n",
    "        print(\"CSV Sniffer detected: delimiter = %r, quotechar = %r\" % (dialect.delimiter,\n",
    "                                                                        dialect.quotechar))\n",
    "    except csv.Error as err:\n",
    "        print(colored(\"No result from the Python CSV Sniffer\", \"red\"))\n",
    "        print(colored(\"Error was: %s\" % err, \"red\"))\n",
    "\n",
    "def detect_url(content, verbose=True):\n",
    "    \"\"\" Utility to run the CleverCSV detector on a CSV file at a URL \"\"\"\n",
    "    # We have designed CleverCSV to be a drop-in replacement for the CSV module\n",
    "    try:\n",
    "        dialect = clevercsv.Sniffer().sniff(content, verbose=verbose)\n",
    "        print(\"CleverCSV detected: delimiter = %r, quotechar = %r\" % (dialect.delimiter, \n",
    "                                                                      dialect.quotechar))\n",
    "    except clevercsv.Error:\n",
    "        print(colored(\"No result from CleverCSV\", \"red\"))\n",
    "\n",
    "def pandas_url(content):\n",
    "    \"\"\" Wrapper around pandas.read_csv(). \"\"\"\n",
    "    buf = io.StringIO(content)\n",
    "    print(\n",
    "        \"Pandas uses: delimiter = %r, quotechar = %r\"\n",
    "        % (',', '\"')\n",
    "    )\n",
    "    try:\n",
    "        df = pd.read_csv(buf)\n",
    "        display(df.head())\n",
    "    except pd.errors.ParserError:\n",
    "        print(colored(\"ParserError from pandas.\", \"red\"))\n",
    "\n",
    "\n",
    "def compare(input_, verbose=False, n_preview=10):\n",
    "    if os.path.exists(input_):\n",
    "      enc = clevercsv.utils.get_encoding(input_)\n",
    "      content = open(input_, 'r', newline='', encoding=enc).read()\n",
    "    else:\n",
    "      content = page(input_)\n",
    "    head(content, num=n_preview)\n",
    "    print(\"\\n1. Running Python Sniffer\")\n",
    "    sniff_url(content)\n",
    "    print(\"\\n2. Running Pandas\")\n",
    "    pandas_url(content)\n",
    "    print(\"\\n3. Running CleverCSV\")\n",
    "    detect_url(content, verbose=verbose)"
   ]
  },
  {
   "cell_type": "markdown",
   "metadata": {
    "format": "text/markdown"
   },
   "source": [
    "\n",
    "### Numbers with comma for decimal point\n",
    "\n"
   ]
  },
  {
   "cell_type": "code",
   "execution_count": null,
   "metadata": {
    "autoscroll": "auto",
    "options": {
     "caption": false,
     "complete": true,
     "display_data": true,
     "display_stream": true,
     "dpi": 200,
     "echo": true,
     "evaluate": true,
     "f_env": null,
     "f_pos": "htpb",
     "f_size": [
      6,
      4
     ],
     "f_spines": true,
     "fig": true,
     "include": true,
     "name": null,
     "option_string": "",
     "results": "verbatim",
     "term": false,
     "wrap": "output"
    }
   },
   "outputs": [],
   "source": [
    "compare('./data/airedale.csv', n_preview=5)"
   ]
  },
  {
   "cell_type": "markdown",
   "metadata": {
    "format": "text/markdown"
   },
   "source": [
    "\n",
    "You'll notice that Python Sniffer says ``.`` is the delimiter, Pandas is \n",
    "correct because the file uses the default comma as separator, and CleverCSV \n",
    "detects the dialect correctly as well.\n",
    "\n",
    "### Tab-separated\n",
    "\n"
   ]
  },
  {
   "cell_type": "code",
   "execution_count": null,
   "metadata": {
    "autoscroll": "auto",
    "options": {
     "caption": false,
     "complete": true,
     "display_data": true,
     "display_stream": true,
     "dpi": 200,
     "echo": true,
     "evaluate": true,
     "f_env": null,
     "f_pos": "htpb",
     "f_size": [
      6,
      4
     ],
     "f_spines": true,
     "fig": true,
     "include": true,
     "name": null,
     "option_string": "",
     "results": "verbatim",
     "term": false,
     "wrap": "output"
    }
   },
   "outputs": [],
   "source": [
    "compare('./data/milk.csv', n_preview=5)"
   ]
  },
  {
   "cell_type": "markdown",
   "metadata": {
    "format": "text/markdown"
   },
   "source": [
    "\n",
    "Sniffer and Pandas are incorrect here, but CleverCSV gets it right.\n",
    "\n",
    "### File with comments\n",
    "\n",
    "The Python Sniffer gives no result for this file, and Pandas fails because it \n",
    "checks for a rectangular table shape.  Note that the text in the comments says \n",
    "that the file uses ``|`` as separator, even though it actually uses ``,``!\n",
    "\n"
   ]
  },
  {
   "cell_type": "code",
   "execution_count": null,
   "metadata": {
    "autoscroll": "auto",
    "options": {
     "caption": false,
     "complete": true,
     "display_data": true,
     "display_stream": true,
     "dpi": 200,
     "echo": true,
     "evaluate": true,
     "f_env": null,
     "f_pos": "htpb",
     "f_size": [
      6,
      4
     ],
     "f_spines": true,
     "fig": true,
     "include": true,
     "name": null,
     "option_string": "",
     "results": "verbatim",
     "term": false,
     "wrap": "output"
    }
   },
   "outputs": [],
   "source": [
    "compare(\"https://raw.githubusercontent.com/queq/just-stuff/c1b8714664cc674e1fc685bd957eac548d636a43/pov/TopFixed/build/project_r_pad.csv\", n_preview=30)"
   ]
  },
  {
   "cell_type": "markdown",
   "metadata": {
    "format": "text/markdown"
   },
   "source": [
    "\n",
    "### Semi-colon separated\n",
    "\n"
   ]
  },
  {
   "cell_type": "code",
   "execution_count": null,
   "metadata": {
    "autoscroll": "auto",
    "options": {
     "caption": false,
     "complete": true,
     "display_data": true,
     "display_stream": true,
     "dpi": 200,
     "echo": true,
     "evaluate": true,
     "f_env": null,
     "f_pos": "htpb",
     "f_size": [
      6,
      4
     ],
     "f_spines": true,
     "fig": true,
     "include": true,
     "name": null,
     "option_string": "",
     "results": "verbatim",
     "term": false,
     "wrap": "output"
    }
   },
   "outputs": [],
   "source": [
    "compare(\"https://raw.githubusercontent.com/grezesf/Research/17b1e829d1d4b8954661270bd8b099e74bb45ce7/Reservoirs/Task0_Replication/code/preprocessing/factors.csv\")"
   ]
  },
  {
   "cell_type": "markdown",
   "metadata": {
    "format": "text/markdown"
   },
   "source": [
    "\n",
    "Sniffer fails outright, Pandas is incorrect because it assumes comma.\n",
    "\n",
    "### File with multiple tables\n",
    "\n"
   ]
  },
  {
   "cell_type": "code",
   "execution_count": null,
   "metadata": {
    "autoscroll": "auto",
    "options": {
     "caption": false,
     "complete": true,
     "display_data": true,
     "display_stream": true,
     "dpi": 200,
     "echo": true,
     "evaluate": true,
     "f_env": null,
     "f_pos": "htpb",
     "f_size": [
      6,
      4
     ],
     "f_spines": true,
     "fig": true,
     "include": true,
     "name": null,
     "option_string": "",
     "results": "verbatim",
     "term": false,
     "wrap": "output"
    }
   },
   "outputs": [],
   "source": [
    "compare(\"https://raw.githubusercontent.com/HAYASAKA-Ryosuke/TodenGraphDay/8f052219d037edabebd488e5f6dc2ddbe8367dc1/juyo-j.csv\")"
   ]
  },
  {
   "cell_type": "markdown",
   "metadata": {
    "format": "text/markdown"
   },
   "source": [
    "\n",
    "Sniffer says ``\\r`` (carriage return) is the delimiter!\n",
    "\n",
    "## Conclusion\n",
    "\n",
    "We hope you find CleverCSV useful! The package is still in beta, so if you \n",
    "encounter any issues or files where CleverCSV fails, please leave a comment on \n",
    "GitHub!\n"
   ]
  }
 ],
 "metadata": {
  "kernel_info": {
   "name": "python3"
  },
  "kernelspec": {
   "display_name": "Python 3",
   "language": "python",
   "name": "python3"
  },
  "language_info": {
   "codemirror_mode": {
    "name": "ipython",
    "version": 3
   },
   "file_extension": ".py",
   "mimetype": "text/x-python",
   "name": "python",
   "nbconvert_exporter": "python",
   "pygments_lexer": "ipython3",
   "version": "3.7.3"
  }
 },
 "nbformat": 4,
 "nbformat_minor": 1
}
